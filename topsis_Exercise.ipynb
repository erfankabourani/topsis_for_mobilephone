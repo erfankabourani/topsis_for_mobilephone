{
 "cells": [
  {
   "cell_type": "code",
   "execution_count": 1,
   "metadata": {},
   "outputs": [],
   "source": [
    "import pandas as pd\n",
    "import numpy as np"
   ]
  },
  {
   "cell_type": "code",
   "execution_count": 107,
   "metadata": {},
   "outputs": [
    {
     "data": {
      "text/html": [
       "<div>\n",
       "<style scoped>\n",
       "    .dataframe tbody tr th:only-of-type {\n",
       "        vertical-align: middle;\n",
       "    }\n",
       "\n",
       "    .dataframe tbody tr th {\n",
       "        vertical-align: top;\n",
       "    }\n",
       "\n",
       "    .dataframe thead th {\n",
       "        text-align: right;\n",
       "    }\n",
       "</style>\n",
       "<table border=\"1\" class=\"dataframe\">\n",
       "  <thead>\n",
       "    <tr style=\"text-align: right;\">\n",
       "      <th></th>\n",
       "      <th>Ram</th>\n",
       "      <th>Memory</th>\n",
       "      <th>DisplaySize</th>\n",
       "      <th>Battery</th>\n",
       "      <th>Price</th>\n",
       "    </tr>\n",
       "    <tr>\n",
       "      <th>Mobile Phone</th>\n",
       "      <th></th>\n",
       "      <th></th>\n",
       "      <th></th>\n",
       "      <th></th>\n",
       "      <th></th>\n",
       "    </tr>\n",
       "  </thead>\n",
       "  <tbody>\n",
       "    <tr>\n",
       "      <th>A</th>\n",
       "      <td>4</td>\n",
       "      <td>128</td>\n",
       "      <td>6.5</td>\n",
       "      <td>3500</td>\n",
       "      <td>15000</td>\n",
       "    </tr>\n",
       "    <tr>\n",
       "      <th>B</th>\n",
       "      <td>6</td>\n",
       "      <td>64</td>\n",
       "      <td>6.4</td>\n",
       "      <td>3800</td>\n",
       "      <td>16000</td>\n",
       "    </tr>\n",
       "    <tr>\n",
       "      <th>C</th>\n",
       "      <td>6</td>\n",
       "      <td>128</td>\n",
       "      <td>6.8</td>\n",
       "      <td>4200</td>\n",
       "      <td>19000</td>\n",
       "    </tr>\n",
       "    <tr>\n",
       "      <th>D</th>\n",
       "      <td>8</td>\n",
       "      <td>256</td>\n",
       "      <td>7.0</td>\n",
       "      <td>5000</td>\n",
       "      <td>25000</td>\n",
       "    </tr>\n",
       "  </tbody>\n",
       "</table>\n",
       "</div>"
      ],
      "text/plain": [
       "              Ram  Memory  DisplaySize  Battery  Price\n",
       "Mobile Phone                                          \n",
       "A               4     128          6.5     3500  15000\n",
       "B               6      64          6.4     3800  16000\n",
       "C               6     128          6.8     4200  19000\n",
       "D               8     256          7.0     5000  25000"
      ]
     },
     "execution_count": 107,
     "metadata": {},
     "output_type": "execute_result"
    }
   ],
   "source": [
    "# read excel file and specify the revenue (1) and cost (-1)\n",
    "df = pd.read_excel('Topsis_Exercise.xlsx' , index_col='Mobile Phone')\n",
    "impact= [1 , 1 , 1 , 1 , -1]\n",
    "df"
   ]
  },
  {
   "cell_type": "code",
   "execution_count": 56,
   "metadata": {},
   "outputs": [
    {
     "data": {
      "text/plain": [
       "array([[4.00e+00, 1.28e+02, 6.50e+00, 3.50e+03, 1.50e+04],\n",
       "       [6.00e+00, 6.40e+01, 6.40e+00, 3.80e+03, 1.60e+04],\n",
       "       [6.00e+00, 1.28e+02, 6.80e+00, 4.20e+03, 1.90e+04],\n",
       "       [8.00e+00, 2.56e+02, 7.00e+00, 5.00e+03, 2.50e+04]])"
      ]
     },
     "execution_count": 56,
     "metadata": {},
     "output_type": "execute_result"
    }
   ],
   "source": [
    "# create matrix\n",
    "data_mat = np.array(df)\n",
    "data_mat"
   ]
  },
  {
   "cell_type": "code",
   "execution_count": 55,
   "metadata": {},
   "outputs": [
    {
     "data": {
      "text/plain": [
       "array([[0.32444284, 0.4       , 0.48658093, 0.42034651, 0.39163022],\n",
       "       [0.48666426, 0.2       , 0.47909507, 0.45637621, 0.41773891],\n",
       "       [0.48666426, 0.4       , 0.50903851, 0.50441581, 0.49606495],\n",
       "       [0.64888568, 0.8       , 0.52401023, 0.60049501, 0.65271704]])"
      ]
     },
     "execution_count": 55,
     "metadata": {},
     "output_type": "execute_result"
    }
   ],
   "source": [
    "# normalizing the data\n",
    "def vector_normalized():\n",
    "    normalized_matrix = data_mat / np.sqrt(np.sum(data_mat ** 2 , axis = 0))\n",
    "    return normalized_matrix\n",
    "vector_normalized()"
   ]
  },
  {
   "cell_type": "code",
   "execution_count": 78,
   "metadata": {},
   "outputs": [
    {
     "data": {
      "text/plain": [
       "array([0.20109574, 0.18416571, 0.2068576 , 0.20511708, 0.20276387])"
      ]
     },
     "execution_count": 78,
     "metadata": {},
     "output_type": "execute_result"
    }
   ],
   "source": [
    "# specify the weighted matrix with entropy method\n",
    "m = data_mat.shape[0]\n",
    "def antropy_weighted(m):\n",
    "    k = 1 / np.log(m)\n",
    "    E = -k * np.sum(vector_normalized() * np.log(vector_normalized()) , axis=0)\n",
    "    w = E / sum(E)\n",
    "    return w\n",
    "antropy_weighted(m)"
   ]
  },
  {
   "cell_type": "code",
   "execution_count": 96,
   "metadata": {},
   "outputs": [
    {
     "data": {
      "text/plain": [
       "array([[0.06524407, 0.07366629, 0.10065296, 0.08622025, 0.07940846],\n",
       "       [0.09786611, 0.03683314, 0.09910445, 0.09361056, 0.08470236],\n",
       "       [0.09786611, 0.07366629, 0.10529848, 0.1034643 , 0.10058405],\n",
       "       [0.13048815, 0.14733257, 0.1083955 , 0.12317178, 0.13234743]])"
      ]
     },
     "execution_count": 96,
     "metadata": {},
     "output_type": "execute_result"
    }
   ],
   "source": [
    "data_wn = np.multiply(antropy_weighted(m) , vector_normalized())\n",
    "data_wn"
   ]
  },
  {
   "cell_type": "code",
   "execution_count": 114,
   "metadata": {},
   "outputs": [
    {
     "data": {
      "text/plain": [
       "array([0.13048815, 0.14733257, 0.1083955 , 0.12317178, 0.07940846])"
      ]
     },
     "execution_count": 114,
     "metadata": {},
     "output_type": "execute_result"
    }
   ],
   "source": [
    "# specify the ideal matrix\n",
    "data_wn = data_wn * impact\n",
    "ideal_negative = np.max(data_wn , axis=0)\n",
    "ideal = ideal_negative * impact\n",
    "ideal"
   ]
  },
  {
   "cell_type": "code",
   "execution_count": 117,
   "metadata": {},
   "outputs": [
    {
     "data": {
      "text/plain": [
       "array([0.06524407, 0.03683314, 0.09910445, 0.08622025, 0.13234743])"
      ]
     },
     "execution_count": 117,
     "metadata": {},
     "output_type": "execute_result"
    }
   ],
   "source": [
    "# specify the non-ideal matrix\n",
    "nonideal_negative = np.min(data_wn , axis=0)\n",
    "nonideal = nonideal_negative * impact\n",
    "nonideal"
   ]
  },
  {
   "cell_type": "code",
   "execution_count": 120,
   "metadata": {},
   "outputs": [
    {
     "data": {
      "text/plain": [
       "array([0.34242135, 0.34608455, 0.30908533, 0.21175589])"
      ]
     },
     "execution_count": 120,
     "metadata": {},
     "output_type": "execute_result"
    }
   ],
   "source": [
    "si_ideal = np.sqrt(np.sum(ideal - data_wn , axis=1) ** 2)\n",
    "si_ideal"
   ]
  },
  {
   "cell_type": "code",
   "execution_count": 121,
   "metadata": {},
   "outputs": [
    {
     "data": {
      "text/plain": [
       "array([0.17337424, 0.17703745, 0.14003822, 0.04270879])"
      ]
     },
     "execution_count": 121,
     "metadata": {},
     "output_type": "execute_result"
    }
   ],
   "source": [
    "si_nonideal = np.sqrt(np.sum(nonideal - data_wn , axis=1) ** 2)\n",
    "si_nonideal"
   ]
  },
  {
   "cell_type": "code",
   "execution_count": 148,
   "metadata": {},
   "outputs": [
    {
     "data": {
      "text/plain": [
       "{'B': 0.3384247781801242,\n",
       " 'A': 0.3361297491951908,\n",
       " 'C': 0.31180334002888854,\n",
       " 'D': 0.16783777948883427}"
      ]
     },
     "execution_count": 148,
     "metadata": {},
     "output_type": "execute_result"
    }
   ],
   "source": [
    "cl = si_nonideal / (si_nonideal + si_ideal)\n",
    "dictionary_cl ={'A': cl[0],\n",
    "                'B': cl[1],\n",
    "                'C': cl[2],\n",
    "                'D': cl[3]}\n",
    "dict(sorted(dictionary_cl.items() , key=lambda item: item[1] , reverse=True))"
   ]
  },
  {
   "cell_type": "markdown",
   "metadata": {},
   "source": [
    "B is the best item"
   ]
  }
 ],
 "metadata": {
  "kernelspec": {
   "display_name": "Python 3.10.6 64-bit",
   "language": "python",
   "name": "python3"
  },
  "language_info": {
   "codemirror_mode": {
    "name": "ipython",
    "version": 3
   },
   "file_extension": ".py",
   "mimetype": "text/x-python",
   "name": "python",
   "nbconvert_exporter": "python",
   "pygments_lexer": "ipython3",
   "version": "3.10.6"
  },
  "orig_nbformat": 4,
  "vscode": {
   "interpreter": {
    "hash": "c5e58a5e7619179b794895be89eb272376f1504c9a8abee14733667cf7f14669"
   }
  }
 },
 "nbformat": 4,
 "nbformat_minor": 2
}
